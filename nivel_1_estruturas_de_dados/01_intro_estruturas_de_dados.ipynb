{
 "metadata": {
  "language_info": {
   "codemirror_mode": {
    "name": "ipython",
    "version": 3
   },
   "file_extension": ".py",
   "mimetype": "text/x-python",
   "name": "python",
   "nbconvert_exporter": "python",
   "pygments_lexer": "ipython3",
   "version": 3
  },
  "orig_nbformat": 2
 },
 "nbformat": 4,
 "nbformat_minor": 2,
 "cells": [
  {
   "source": [
    "* \n",
    "* O que sao estruturas de dados: formas de guardar dados. \n",
    "* Vimos a lista, que guarda um dado seguido do outro\n",
    "* Existem outras, cada uma com vantagens e desvantagens"
   ],
   "cell_type": "markdown",
   "metadata": {}
  }
 ]
}