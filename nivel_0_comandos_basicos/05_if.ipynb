{
 "cells": [
  {
   "cell_type": "markdown",
   "metadata": {},
   "source": [
    "===================================================================================================================\n",
    "<h3>3. Comandos condicionais</h3>\n",
    "Às vezes, queremos que o nosso programa tome decisões.\n",
    "<br>Fazemos isso com os comandos condicionais.\n",
    "<br>O principal comando é o \"if\"\n",
    "<br>\"if\" significa \"se\", do inglês"
   ]
  },
  {
   "cell_type": "code",
   "execution_count": null,
   "metadata": {},
   "outputs": [],
   "source": [
    "# Ao usar o \"if\", precisamos dizer ao programa sob qual condição aquele bloco de código deve rodar\n",
    "# As condições devem ser sempre perguntas de sim ou não\n",
    "# O bloco de código immediatamente abaixo do \"if\" só é executado se a resposta for SIM"
   ]
  },
  {
   "cell_type": "code",
   "execution_count": null,
   "metadata": {},
   "outputs": [],
   "source": [
    "# Em psedocódigo, seria algo como\n",
    "\n",
    "#Se (isso): \n",
    "#    então aquilo"
   ]
  },
  {
   "cell_type": "code",
   "execution_count": null,
   "metadata": {},
   "outputs": [],
   "source": [
    "\n",
    "if (3 < 5):        # 3 é menor do que 5?\n",
    "    print (\"Sim\")\n",
    "\n",
    "if(2 != 0):        # 2 é diferente de 0?\n",
    "    print (\"Sim\")\n",
    "\n",
    "if(10+2 == 12):    # 10 + 2 é exatamente igual a 12?\n",
    "    print (\"Sim\")\n"
   ]
  },
  {
   "cell_type": "markdown",
   "metadata": {},
   "source": [
    "<h4> Identação</h4>\n",
    "Você deve ter reparado que o código que é executado está levemente afastado da borda esquerda\n",
    "<br>O nome disso é IDENTAÇÃO e indica para o programa a hierarquia entre as linhas de código\n",
    "<br>Identamos com TAB"
   ]
  },
  {
   "cell_type": "code",
   "execution_count": null,
   "metadata": {},
   "outputs": [],
   "source": [
    "#Tente rodar o código abaixo\n",
    "\n",
    "# Isso aqui funciona\n",
    "if(2 != 0):         \n",
    "    print (\"Sim\")\n",
    "\n",
    "# Isso aqui não funciona\n",
    "if(3 != 0):\n",
    "print (\"Sim\")\n",
    "\n",
    "# Corrija o trecho de código acima para que funcione corretamente\n"
   ]
  }
 ],
 "metadata": {
  "kernelspec": {
   "display_name": "Python 3",
   "language": "python",
   "name": "python3"
  },
  "language_info": {
   "codemirror_mode": {
    "name": "ipython",
    "version": 3
   },
   "file_extension": ".py",
   "mimetype": "text/x-python",
   "name": "python",
   "nbconvert_exporter": "python",
   "pygments_lexer": "ipython3",
   "version": "3.7.1"
  }
 },
 "nbformat": 4,
 "nbformat_minor": 2
}