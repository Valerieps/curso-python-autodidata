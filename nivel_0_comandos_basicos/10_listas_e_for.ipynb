{
 "cells": [
  {
   "cell_type": "markdown",
   "metadata": {},
   "source": [
    "<h4>Preenchendo uma lista com um laço FOR</h4>\n",
    "O mais legal de laços de repetição é poder preencher uma lista a partir do input da usuária\n",
    "<br>Veja abaixo um programa que recebe as notas dos alunos de uma turma de 5 pessoas\n",
    "<br>Como todos os inputs recebidos são notas, é adequado guardar em uma mesma lista, concorda?"
   ]
  },
  {
   "cell_type": "code",
   "execution_count": null,
   "metadata": {},
   "outputs": [],
   "source": [
    "# Criamos uma lista vazia\n",
    "notas = []   \n",
    "\n",
    "# Laço de repetição para preencher a lista\n",
    "for i in range(1, 6):\n",
    "    print(\"Digite a nota do aluno \", i)\n",
    "    notas.append( float(input()) )      # Recebe o input, converte em float(número com casa decimal), insere ao final da lista\n",
    "\n",
    "print (notas)"
   ]
  },
  {
   "cell_type": "markdown",
   "metadata": {},
   "source": [
    "<h4>Sua vez!</h4>\n",
    "Para entender o que aconteceu no código acima, reescreva o código na célula abaixo, mas dessa vez, peça para a usuária digitar 7 números"
   ]
  },
  {
   "cell_type": "code",
   "execution_count": null,
   "metadata": {},
   "outputs": [],
   "source": [
    "# Escreva seu código aqui\n",
    "\n",
    "\n",
    "\n",
    "\n",
    "\n",
    "\n",
    "\n",
    "\n",
    "\n",
    "\n"
   ]
  }
 ],
 "metadata": {
  "kernelspec": {
   "display_name": "Python 3",
   "language": "python",
   "name": "python3"
  },
  "language_info": {
   "codemirror_mode": {
    "name": "ipython",
    "version": 3
   },
   "file_extension": ".py",
   "mimetype": "text/x-python",
   "name": "python",
   "nbconvert_exporter": "python",
   "pygments_lexer": "ipython3",
   "version": "3.7.1"
  }
 },
 "nbformat": 4,
 "nbformat_minor": 2
}