{
 "metadata": {
  "language_info": {
   "codemirror_mode": {
    "name": "ipython",
    "version": 3
   },
   "file_extension": ".py",
   "mimetype": "text/x-python",
   "name": "python",
   "nbconvert_exporter": "python",
   "pygments_lexer": "ipython3",
   "version": 3
  },
  "orig_nbformat": 2
 },
 "nbformat": 4,
 "nbformat_minor": 2,
 "cells": [
  {
   "source": [
    "* \n",
    "* O que sao estruturas de dados: formas de guardar dados. \n",
    "* Vimos a lista, que guarda um dado seguido do outro\n",
    "* Existem outras, cada uma com vantagens e desvantagens\n",
    "* vamos conhecer com mais detalhes 3 importantes estruturas de dados de python:\n",
    "    * Listas\n",
    "    * Dicionarios\n",
    "    * "
   ],
   "cell_type": "markdown",
   "metadata": {}
  },
  {
   "source": [
    "HTML('<iframe width=\"560\" height=\"315\" src=\"https://www.youtube.com/embed/S_f2qV2_U00?rel=0&amp;controls=0&amp;showinfo=0\" frameborder=\"0\" allowfullscreen></iframe>')"
   ],
   "cell_type": "markdown",
   "metadata": {}
  },
  {
   "cell_type": "code",
   "execution_count": null,
   "metadata": {},
   "outputs": [],
   "source": []
  }
 ]
}