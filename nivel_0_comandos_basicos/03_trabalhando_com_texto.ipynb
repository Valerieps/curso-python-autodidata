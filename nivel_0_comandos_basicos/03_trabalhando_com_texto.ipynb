{
 "cells": [
  {
   "cell_type": "markdown",
   "metadata": {},
   "source": [
    "# 2. Trabalhando com texto\n",
    "Além de números também podemos trabalhar com caracteres e sequências de caracteres\n",
    "<br>Uma sequência de caracteres é chamada de <strong>STRING</strong>.\n",
    "<br>Em computação, caracteres não são apenas letras. Podem ser letras, números, espaço, caracteres especiais...\n",
    "<br>Por isso, uma string pode ser uma palavra, uma frase, um CPF.."
   ]
  },
  {
   "cell_type": "code",
   "execution_count": null,
   "metadata": {},
   "outputs": [],
   "source": [
    "texto = \"Oi, eu sou uma string =D\"   # Precisamos colocar aspas para indicar que queremos trabalhar com uma string\n",
    "print (texto)\n",
    "\n",
    "texto = \"42\" \n",
    "print (texto)"
   ]
  },
  {
   "cell_type": "markdown",
   "metadata": {},
   "source": [
    "<h4> Concatenando strings</h4>"
   ]
  },
  {
   "cell_type": "code",
   "execution_count": null,
   "metadata": {},
   "outputs": [],
   "source": [
    "# Concatenar é \"colar\" uma string após a outra\n",
    "\n",
    "nome = \"Maria\"\n",
    "sobrenome = \"do Carmo\"\n",
    "\n",
    "nome_completo = nome + \" \" + sobrenome  # Observe que estamos concatenando um espaço também\n",
    "print(nome_completo)"
   ]
  },
  {
   "cell_type": "markdown",
   "metadata": {},
   "source": [
    "<h4>Acessando caracteres</h4>\n",
    "Como a string é uma sequência de caracteres, podemos acessar individualmente cada um deles\n",
    "<br>Em computação, toda série de dados recebe um endereço numérico, que começa em 0\n",
    "<br>0 1 2 3 - (índices)\n",
    "<br>c a s a - (caractere armazenado)"
   ]
  },
  {
   "cell_type": "code",
   "execution_count": null,
   "metadata": {},
   "outputs": [],
   "source": [
    "string = \"casa\"\n",
    "\n",
    "# Colocamos entre [ ] o índice do caractere que queremos acessar\n",
    "print(string[0])\n",
    "print(string[1])\n",
    "print(string[2])\n",
    "print(string[3])"
   ]
  },
  {
   "cell_type": "markdown",
   "metadata": {},
   "source": [
    "<h4>Repartindo strings</h4>"
   ]
  },
  {
   "cell_type": "code",
   "execution_count": null,
   "metadata": {},
   "outputs": [],
   "source": [
    "# Também podemos querer separar um pedaço da string\n",
    "# Para isso, precisamos dizer ao programa o intervalo da string que queremos acessar\n",
    "# Utilizamos novamente os índices para fazer isso\n",
    "\n",
    "# O intervalo [0:4] significa: comece no 0, pare LOGO ANTES do índice 4\n",
    "nome_completo = \"João das Dores\"\n",
    "nome = nome_completo[0:4]\n",
    "print(nome)\n",
    "\n",
    "# Se deixarmos o segundo parâmetro em branco, o programa lerá até o final da string\n",
    "sobrenome = nome_completo[5:]\n",
    "print(sobrenome)"
   ]
  },
  {
   "cell_type": "markdown",
   "metadata": {},
   "source": [
    "<h4>Agora é sua vez!</h4>\n",
    "Escreva um programa que separe a palavra JOIO de dentro da string \"trigotrigotrigojoiotrigo\""
   ]
  },
  {
   "cell_type": "code",
   "execution_count": null,
   "metadata": {},
   "outputs": [],
   "source": [
    "texto =\"trigotrigotrigojoiotrigo\"\n",
    "\n",
    "joio = \n",
    "print (joio)\n"
   ]
  }
 ],
 "metadata": {
  "kernelspec": {
   "display_name": "Python 3",
   "language": "python",
   "name": "python3"
  },
  "language_info": {
   "codemirror_mode": {
    "name": "ipython",
    "version": 3
   },
   "file_extension": ".py",
   "mimetype": "text/x-python",
   "name": "python",
   "nbconvert_exporter": "python",
   "pygments_lexer": "ipython3",
   "version": "3.7.1"
  }
 },
 "nbformat": 4,
 "nbformat_minor": 2
}