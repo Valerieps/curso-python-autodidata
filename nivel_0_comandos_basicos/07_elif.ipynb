{
 "cells": [
  {
   "cell_type": "markdown",
   "metadata": {},
   "source": [
    "<h4>elif: testando mais de duas condições</h4>\n",
    "Quando queremos testar mais do que duas condições, vamos utilizar o \"elif\"\n",
    "<br>\"elif\" é um diminutivo para \"else, if\""
   ]
  },
  {
   "cell_type": "code",
   "execution_count": null,
   "metadata": {},
   "outputs": [],
   "source": [
    "# Observe como o elif vários cria caminhos possíveis. Apenas um desses caminhos será executado\n",
    "\n",
    "\n",
    "numero = -25\n",
    "\n",
    "if(numero < 0):                                                  # 'numero' é menor que 0?\n",
    "    print(\"Você digitou um número negativo\")                          # se sim, imprima isso\n",
    "elif(numero == 0):                                               # Se não, 'numero' é exatamente igual a 0?\n",
    "    print(\"Você digitou 0, que não é positivo nem negativo\")          #  se sim, imprima isso\n",
    "else:                                                            # Se não,\n",
    "    print(\"Você digitou um numero positivo ou 0\")                     # imprima isso\n",
    "    "
   ]
  },
  {
   "cell_type": "code",
   "execution_count": null,
   "metadata": {},
   "outputs": [],
   "source": [
    "# Você pode criar quantos caminhos alternativos forem necessários\n",
    "\n",
    "idade = 24\n",
    "\n",
    "if(idade <=17):                      # 'idade' é menor ou igual a 17?\n",
    "    print(\"Menor de idade\")              # se sim, imprima isso\n",
    "elif(idade > 17 and idade <= 24):    # Se não, 'idade' é maior que 17 E menor ou igual a 24?\n",
    "    print(\"Jovem adulto\")                # se sim, imprima isso\n",
    "elif(idade > 24 and idade <= 59):    # Se não, idade é maio que 24 E menor ou igual a 59?\n",
    "    print(\"Adulto\")                      # se sim, imprima isso\n",
    "elif(idade > 59):                    # Se não, 'idade' é maior que 59?\n",
    "    print(\"Idoso\")                       # se sim, imprima isso\n",
    "    "
   ]
  },
  {
   "cell_type": "code",
   "execution_count": null,
   "metadata": {},
   "outputs": [],
   "source": [
    "# RESUMO DAS PERGUNTAS LÓGICAS\n",
    "# == : é exatamente igual?\n",
    "# != : é diferente?\n",
    "# >  : é maior que?\n",
    "# <  : é menor que?\n",
    "# >= : é maior ou igual?\n",
    "# <= : é menor ou igual?\n",
    "# and: E (Atende às duas condições ao mesmo tempo?)\n",
    "# or : OU (Atende a pelo menos uma das condições?)"
   ]
  },
  {
   "cell_type": "markdown",
   "metadata": {},
   "source": [
    "<h4> Agora é sua vez!</h4>\n",
    "Crie um programa que leia um salário e retorne a faixa de imposto que ela irá pagar\n",
    "<br>Faixas de imposto:\n",
    "<ul>\n",
    "<li>Salário menor ou igual a 1000.00: \"Imposto de 10%\"\n",
    "<li>Salário mair do que 1000.00 E menor ou igual a  12000.00: \"Imposto de 20%\"\n",
    "<li>Salário maior do que 12000.00: \"Imposto de 30%\"\n",
    "</ul>"
   ]
  },
  {
   "cell_type": "code",
   "execution_count": null,
   "metadata": {},
   "outputs": [],
   "source": [
    "# Escreva seu código aqui\n",
    "\n",
    "\n",
    "\n",
    "\n",
    "\n",
    "\n",
    "\n",
    "\n",
    "\n"
   ]
  }
 ],
 "metadata": {
  "kernelspec": {
   "display_name": "Python 3",
   "language": "python",
   "name": "python3"
  },
  "language_info": {
   "codemirror_mode": {
    "name": "ipython",
    "version": 3
   },
   "file_extension": ".py",
   "mimetype": "text/x-python",
   "name": "python",
   "nbconvert_exporter": "python",
   "pygments_lexer": "ipython3",
   "version": "3.7.1"
  }
 },
 "nbformat": 4,
 "nbformat_minor": 2
}