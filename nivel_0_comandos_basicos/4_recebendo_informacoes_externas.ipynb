{
 "cells": [
  {
   "source": [
    "# 4. Recebendo informações externas"
   ],
   "cell_type": "markdown",
   "metadata": {}
  },
  {
   "cell_type": "markdown",
   "metadata": {},
   "source": [
    "<h4>Função input( )</h4>\n",
    "Para nosso programa ficar mais interessante, podemos solicitar que o usuário digite as entradas do programa.\n",
    "<br>Para isso, usamos a função input"
   ]
  },
  {
   "cell_type": "code",
   "execution_count": null,
   "metadata": {
    "scrolled": true
   },
   "outputs": [],
   "source": [
    "# Rode esse código\n",
    "entrada = input()\n",
    "print (entrada) "
   ]
  },
  {
   "cell_type": "code",
   "execution_count": null,
   "metadata": {},
   "outputs": [],
   "source": [
    "# Também podemos colocar um texto para o usuário visualizar\n",
    "entrada = input(\"Digite um numero \")\n",
    "print (entrada) "
   ]
  },
  {
   "cell_type": "markdown",
   "metadata": {},
   "source": [
    "<h4>Convertendo para o tipo desejado</h4>\n",
    "Mas temos que ter atenção! A funcao input recebe o que o usuário digita e te entrega uma STRING"
   ]
  },
  {
   "cell_type": "code",
   "execution_count": null,
   "metadata": {
    "scrolled": true
   },
   "outputs": [],
   "source": [
    "# O codigo abaixo demonstra que o número recebido pela função input() não armazena um número, mas sim, uma string\n",
    "\n",
    "nao_eh_numero = input(\"Digite um numero \")\n",
    "print ( type(nao_eh_numero))    # A função type verifica o tipo da variável\n"
   ]
  },
  {
   "cell_type": "markdown",
   "metadata": {},
   "source": [
    "<h4>Convertendo para o tipo adequado</h4>"
   ]
  },
  {
   "cell_type": "code",
   "execution_count": null,
   "metadata": {},
   "outputs": [],
   "source": [
    "# Por isso, sempre precisamos dizer ao Python qual o tipo de dados que realmente queremos\n",
    "# Quando temos funções aninhadas, a execução é de dentro pra fora: Primeiro, roda a função input, depois, a conversão\n",
    "\n",
    "inteiro = int ( input(\"Digite um numero \") ) # Transforma em um numero inteiro\n",
    "print ( type(inteiro) )\n",
    "\n",
    "real = float ( input(\"Digite um numero \") ) # Transforma em um numero real (com casa decimal)\n",
    "print ( type(real) )\n"
   ]
  },
  {
   "cell_type": "markdown",
   "metadata": {},
   "source": [
    "<h4>Sua vez!</h4>\n",
    "Vamos melhorar o programa que calcula imc"
   ]
  },
  {
   "cell_type": "code",
   "execution_count": null,
   "metadata": {},
   "outputs": [],
   "source": [
    "# Complete o código abaixo para receber a informação da usuária e transformar nos tipos corretos\n",
    "peso = \n",
    "altura = \n",
    "\n",
    "# Calcule e apresente o imc da usuária\n",
    "\n",
    "\n",
    "print(\"Seu imc é: \", imc)\n"
   ]
  }
 ],
 "metadata": {
  "kernelspec": {
   "display_name": "Python 3",
   "language": "python",
   "name": "python3"
  },
  "language_info": {
   "codemirror_mode": {
    "name": "ipython",
    "version": 3
   },
   "file_extension": ".py",
   "mimetype": "text/x-python",
   "name": "python",
   "nbconvert_exporter": "python",
   "pygments_lexer": "ipython3",
   "version": "3.7.1"
  }
 },
 "nbformat": 4,
 "nbformat_minor": 2
}