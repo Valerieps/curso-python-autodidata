{
 "cells": [
  {
   "cell_type": "markdown",
   "metadata": {},
   "source": [
    "======================================================================================================================\n",
    "<h2>4. Listas: Um jeito melhor de guardar dados na memória</h2>"
   ]
  },
  {
   "cell_type": "markdown",
   "metadata": {},
   "source": [
    "Imagine um programa realmente grande. É inviável criarmos uma variável para cada informação que precisarmos em um programa. Por isso, existem formas de agrupar os dados. A principal forma de agruparmos dados em Python são as listas. Listas são declaradas exatamente como variáveis, mas admitem guardar tantos elementos quantos você queira"
   ]
  },
  {
   "cell_type": "code",
   "execution_count": null,
   "metadata": {},
   "outputs": [],
   "source": [
    "dia = ['Segunda', 'Terça', 'Quarta', 'Quinta', 'Sexta', 'Sábado', 'Domingo']\n",
    "\n",
    "# Todos os dados têm o mesmo nome: dia.\n",
    "# Da mesma forma que vimos com strings, cada dado tem um endereço que começa com 0\n",
    "\n",
    "# Utilize o espaço abaixo para imprimir na tela o seu dia favorito da semana\n",
    "\n",
    "\n",
    "\n",
    "\n",
    "\n",
    "\n",
    "\n",
    "\n"
   ]
  },
  {
   "cell_type": "markdown",
   "metadata": {},
   "source": [
    "<h4>Acrescentando e removendo itens na sua lista</h4>\n",
    "É muito comum precisarmos realizar alterações no nosso programa. Por exemplo: se ficasse decidido que o final de semana agora terá 3 dias! Precisamos incluir esse dia na nossa lista."
   ]
  },
  {
   "cell_type": "code",
   "execution_count": null,
   "metadata": {},
   "outputs": [],
   "source": [
    "# O comando 'append' inclui itens ao final da nossa lista\n",
    "# Para utilizá-lo, escrevemos: nomeLista.append()\n",
    "\n",
    "dia = [\"Segunda\", \"Terça\", \"Quarta\", \"Quinta\", \"Sexta\", \"Sábado\", \"Domingo\"]\n",
    "print(dia)\n",
    "\n",
    "dia.append('Domingaço')\n",
    "print(dia)"
   ]
  },
  {
   "cell_type": "code",
   "execution_count": null,
   "metadata": {},
   "outputs": [],
   "source": [
    "# Para melhorar ainda mais a nossa vida, revogaram a segunda!\n",
    "# Para atualizar nosso programa, vamos usar o comando 'remove'\n",
    "\n",
    "dia.remove(\"Segunda\")\n",
    "print(dia)"
   ]
  },
  {
   "cell_type": "code",
   "execution_count": null,
   "metadata": {},
   "outputs": [],
   "source": [
    "# O comando 'append' insere itens ao final da lista\n",
    "# Para inserir um item em qualquer posição, usamos o 'insert'\n",
    "# Vamos re-colocar a segunda\n",
    "\n",
    "dia.insert(0, \"Segunda\")  # Insere na posição 0\n",
    "print(dia)"
   ]
  },
  {
   "cell_type": "markdown",
   "metadata": {},
   "source": [
    "<h4>Sua Vez!</h4>\n",
    "Crie uma lista com os nomes das pessoas da sua família\n",
    "<br> Alguém vai ter neném! Insira na lista o nome da nova criança em qualquer posição que você desejar\n",
    "<br>Imprima a lista"
   ]
  },
  {
   "cell_type": "code",
   "execution_count": null,
   "metadata": {},
   "outputs": [],
   "source": [
    "# Insira seu código aqui\n",
    "\n",
    "\n",
    "\n",
    "\n",
    "\n",
    "\n",
    "\n"
   ]
  }
 ],
 "metadata": {
  "kernelspec": {
   "display_name": "Python 3",
   "language": "python",
   "name": "python3"
  },
  "language_info": {
   "codemirror_mode": {
    "name": "ipython",
    "version": 3
   },
   "file_extension": ".py",
   "mimetype": "text/x-python",
   "name": "python",
   "nbconvert_exporter": "python",
   "pygments_lexer": "ipython3",
   "version": "3.7.1"
  }
 },
 "nbformat": 4,
 "nbformat_minor": 2
}