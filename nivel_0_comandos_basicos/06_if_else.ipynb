{
 "cells": [
  {
   "cell_type": "markdown",
   "metadata": {},
   "source": [
    "<h4>if - else</h4>\n",
    "Mas e se a resposta da condição for NÃO?\n",
    "<br>Usamos o \"else\", que signifca \"senão\""
   ]
  },
  {
   "cell_type": "code",
   "execution_count": null,
   "metadata": {},
   "outputs": [],
   "source": [
    "# Em psedocódigo, seria algo como\n",
    "\n",
    "# Se (isso): \n",
    "#     então aquilo\n",
    "# Senão:\n",
    "#     então aquilo outro"
   ]
  },
  {
   "cell_type": "code",
   "execution_count": null,
   "metadata": {},
   "outputs": [],
   "source": [
    "# Observe como a dupla \"if - else\" bifurca o código, garantido que apenas um dos caminhos seja executado\n",
    "# Observe também que, para o 'else', não precisamos estabelecer uma condição. \n",
    "    #Aquele trecho de código vai rodar SEMPRE que o 'if' tiver NÃO como resposta\n",
    "\n",
    "if(2 == 0):         # 2 é exatamente igual a 0?     \n",
    "    print (\"Sim\")      # Se sim, imprime 'Sim'\n",
    "else:               # Se não,\n",
    "    print(\"Não\")       # Imprime 'Não'\n",
    "\n"
   ]
  },
  {
   "cell_type": "code",
   "execution_count": null,
   "metadata": {},
   "outputs": [],
   "source": [
    "# Exemplo\n",
    "\n",
    "numero = 75.5\n",
    "\n",
    "if(numero <= 0):                                   # A variável 'numero' guarda um valor menor que 0?\n",
    "    print(\"Você digitou um número negativo ou 0\")       # Se sim, imprime essa frase\n",
    "else:                                              # Se não,\n",
    "    print(\"Você digitou um numero positivo\")           # Imprime essa outra frase\n",
    "\n"
   ]
  },
  {
   "cell_type": "code",
   "execution_count": null,
   "metadata": {},
   "outputs": [],
   "source": [
    "# Exemplo com string\n",
    "\n",
    "local = \"trabalho\"\n",
    "\n",
    "if(local == \"casa\"):                         # a variável 'local' guarda a string \"casa\"?\n",
    "    print(\"Estou em casa\")                      # Se sim, imprime essa frase\n",
    "else:                                        # Se não,\n",
    "    print(\"Estou em qualquer outro lugar\")      # Imprime essa outra frase\n",
    "\n"
   ]
  },
  {
   "cell_type": "code",
   "execution_count": null,
   "metadata": {},
   "outputs": [],
   "source": [
    "# Podemos fazer perguntas cada vez mais elaboradas\n",
    "\n",
    "numero = 12\n",
    "\n",
    "if(numero % 3 == 0):                # O resto da divisão de 'numero' por 3 resulta em 0?\n",
    "    print(\"É divisível por 3\")          # Se sim, imprime essa frase\n",
    "else:                               # Se não,\n",
    "    print(\"Não é divisível por 3\")      # Imprime essa outra frase\n",
    "\n"
   ]
  },
  {
   "cell_type": "markdown",
   "metadata": {},
   "source": [
    "<h4>Sua vez!</h4>\n",
    "Vamos criar um programa que decide se um número é par ou ímpar\n",
    "<br>Dica: um número é par quando o resto da divisão por 2 é igual a 0"
   ]
  },
  {
   "cell_type": "code",
   "execution_count": null,
   "metadata": {},
   "outputs": [],
   "source": [
    "numero = 25\n",
    "\n",
    "if():\n",
    "    print(\"O número é par\")\n",
    "else:\n",
    "    print(\"O número é ímpar\")\n",
    "    "
   ]
  },
  {
   "cell_type": "markdown",
   "metadata": {},
   "source": [
    "<h4>Sua vez!</h4>\n",
    "Temos um quantidade de balinhas e queremos dividir entre as crianças.\n",
    "Vamos fazer um programinha que decide se é possível fazer uma divisão igual sem sobrar balas (ou seja, a divisão deve ter resto 0)"
   ]
  },
  {
   "cell_type": "code",
   "execution_count": null,
   "metadata": {},
   "outputs": [],
   "source": [
    "# O que esse trecho de código faz?\n",
    "criancas = int ( input(\"Quantas criancas? \") )\n",
    "balinhas = int ( input(\"Quantas balinhas? \") )\n",
    "\n",
    "# complete a linha de código abaixo\n",
    "divisao = \n",
    "print (divisao)\n",
    "\n",
    "# Preencha uma condição que retorne SIM como resposta\n",
    "if():\n",
    "    print(\"É possivel dividir as balinhas =)\")\n",
    "else:\n",
    "    print (\"Não é possível =(\")\n"
   ]
  }
 ],
 "metadata": {
  "kernelspec": {
   "display_name": "Python 3",
   "language": "python",
   "name": "python3"
  },
  "language_info": {
   "codemirror_mode": {
    "name": "ipython",
    "version": 3
   },
   "file_extension": ".py",
   "mimetype": "text/x-python",
   "name": "python",
   "nbconvert_exporter": "python",
   "pygments_lexer": "ipython3",
   "version": "3.7.1"
  }
 },
 "nbformat": 4,
 "nbformat_minor": 2
}