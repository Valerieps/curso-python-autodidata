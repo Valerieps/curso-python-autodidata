{
 "cells": [
  {
   "cell_type": "markdown",
   "metadata": {},
   "source": [
    "# Introdução à Programação</h1>\n",
    "Esse curso é uma iniciativa da Girls Support Girls, uma comunidade iniciada por mulheres dos cursos de computação da UFMG. \n",
    "<br><a href = \"https://www.facebook.com/groups/girlssupportgirls.ufmg/\" target=\"_blank\"> Comunidade no Facebook</a>\n",
    "\n",
    "<h4> Jupyter Notebooks </h4>\n",
    "Estamos utilizando um aplicativo chamado Jupyter Notebooks. Ele permite que o programa seja dividido em células intercaladas com texto. Você pode instalar esse programa em casa, no seu computador.\n",
    "\n",
    "<h4> Tire proveito do Notebook, ele é seu! </h4>\n",
    "Ao longo da aula, você pode alterar O QUE QUISER nos código e fazer testes. Futricar em código é uma maneira excelente de aprender como ele funciona. Você vai levar esse arquivo com você para casa. Fique à vontade para fazer anotações!\n",
    "\n",
    "<h4> Dicas do Jupyter </h4>\n",
    "<ul>\n",
    "<li>Uma célula ativa tem borda verde. Uma célula inativa tem borda azul\n",
    "<li>Para incluir texto, a célula precisa estar ativa. Para ativar a célula, pressione ENTER\n",
    "<li>Para rodar o código em uma célula, pressione CTRL + ENTER\n",
    "</ul>"
   ]
  },
  {
   "cell_type": "code",
   "execution_count": null,
   "metadata": {},
   "outputs": [],
   "source": []
  }
 ],
 "metadata": {
  "kernelspec": {
   "display_name": "Python 3",
   "language": "python",
   "name": "python3"
  },
  "language_info": {
   "codemirror_mode": {
    "name": "ipython",
    "version": 3
   },
   "file_extension": ".py",
   "mimetype": "text/x-python",
   "name": "python",
   "nbconvert_exporter": "python",
   "pygments_lexer": "ipython3",
   "version": "3.8.3"
  }
 },
 "nbformat": 4,
 "nbformat_minor": 4
}