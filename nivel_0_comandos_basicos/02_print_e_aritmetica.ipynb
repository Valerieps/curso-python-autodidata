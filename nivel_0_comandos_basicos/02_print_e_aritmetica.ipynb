{
 "cells": [
  {
   "source": [
    "# 1. Print e Aritmética"
   ],
   "cell_type": "markdown",
   "metadata": {}
  },
  {
   "cell_type": "code",
   "execution_count": null,
   "metadata": {
    "slideshow": {
     "slide_type": "slide"
    }
   },
   "outputs": [],
   "source": [
    "# Ao executar os comandos abaixo, os números são salvos na memória. Somente depois a operação é realizada.\n",
    "# Execute essa célula com Ctrl + Enter\n",
    "\n",
    "print (\"Soma:\", 2+10)\n",
    "print (\"Subtração:\", 5+2)\n",
    "print (\"Produto:\", 2*3)\n",
    "print (\"Divisão:\", 4/2)\n",
    "print (\"Divisão inteira:\", 10//3)\n",
    "print (\"Resto da divisão:\", 10%3)\n",
    "print (\"Exponenciação:\", 2**3)"
   ]
  },
  {
   "cell_type": "markdown",
   "metadata": {},
   "source": [
    "<h4>Variáveis</h4>\n",
    "Para utilizar o resultado das operações, precisamos armazená-los antes de utilizar\n",
    "<br>Para isso, usamos o que chamamos de variáveis\n",
    "<br>Para criar uma variável, basta escrever seu nome e atribuir algum valor"
   ]
  },
  {
   "cell_type": "code",
   "execution_count": null,
   "metadata": {},
   "outputs": [],
   "source": [
    "# Lembre-se de brincar com o código\n",
    "\n",
    "idade = 30           # Criamos uma variável do tipo idade e atribuímos o valor 30\n",
    "print (idade)        # É possível imprimir o conteúdo da variável na tela\n",
    "\n",
    "idade = idade + 10   # Atualizando o valor da variável \n",
    "print (idade)\n",
    "\n",
    "idade = 10           # Alterando completamente o valor da variável\n",
    "print (idade)"
   ]
  },
  {
   "cell_type": "code",
   "execution_count": null,
   "metadata": {},
   "outputs": [],
   "source": [
    "# Nomes de variáveis têm alguma regrinhas:\n",
    "\n",
    "# Maiúsculas e minúsculas são diferentes\n",
    "    # variavel e Variavel são diferentes\n",
    "\n",
    "# Nomes compostos podem ser formados assim:\n",
    "    # nomeComposto\n",
    "    # nome_composto"
   ]
  },
  {
   "cell_type": "markdown",
   "metadata": {},
   "source": [
    "<h4>Sua vez!</h4>\n",
    "Vamos calcular o imc, índice de massa corporal. Crie variáveis para armazenar peso, altura e imc\n",
    "Imprima o valor da variavel \"imc\" na tela\n",
    "\n",
    "$$imc = \\frac{peso}{altura^2}$$"
   ]
  },
  {
   "cell_type": "code",
   "execution_count": null,
   "metadata": {},
   "outputs": [],
   "source": [
    "# Escreva seu código nessa célula\n",
    "# casa decimais devem ser separadas com ponto\n",
    "\n",
    "\n",
    "\n",
    "\n",
    "\n",
    "\n",
    "\n"
   ]
  }
 ],
 "metadata": {
  "kernelspec": {
   "display_name": "Python 3",
   "language": "python",
   "name": "python3"
  },
  "language_info": {
   "codemirror_mode": {
    "name": "ipython",
    "version": 3
   },
   "file_extension": ".py",
   "mimetype": "text/x-python",
   "name": "python",
   "nbconvert_exporter": "python",
   "pygments_lexer": "ipython3",
   "version": "3.7.1"
  }
 },
 "nbformat": 4,
 "nbformat_minor": 2
}