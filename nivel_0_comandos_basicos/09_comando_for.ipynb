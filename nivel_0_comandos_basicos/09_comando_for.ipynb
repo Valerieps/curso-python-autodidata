{
 "cells": [
  {
   "cell_type": "markdown",
   "metadata": {},
   "source": [
    "======================================================================================================================\n",
    "<h2>5. Comando de Repetição</h2>"
   ]
  },
  {
   "cell_type": "markdown",
   "metadata": {},
   "source": [
    "Um dos comandos que mais facilitam nossa vida são os comandos de repetição\n",
    "<br>Eles fazem com que um trecho de código seja repetido quantas vezes desejarmos\n",
    "<br>O principal comando em quase todas as linguagens é o \"for\", do inglês, \"para\""
   ]
  },
  {
   "cell_type": "code",
   "execution_count": null,
   "metadata": {},
   "outputs": [],
   "source": [
    "fruta = ['Maçã', 'Limão', 'Laranja']\n",
    "\n",
    "for item in fruta:\n",
    "    print(item)"
   ]
  },
  {
   "cell_type": "code",
   "execution_count": null,
   "metadata": {},
   "outputs": [],
   "source": [
    "# O que está acontecendo no código acima é o seguinte:\n",
    "# PARA cada dado da lista\n",
    "    # A variável 'item' recebe o dado e o imprime\n",
    "\n",
    "# Quando a lista acaba, o laço de repetição termina"
   ]
  },
  {
   "cell_type": "code",
   "execution_count": null,
   "metadata": {},
   "outputs": [],
   "source": [
    "# Mas poderíamos ter imprimido a lista sem o FOR, concorda?\n",
    "# Vamos fazer algo mais interessante\n",
    "\n",
    "lista = [1, 2, 3, 4, 5, 6]\n",
    "\n",
    "for item in lista:\n",
    "    print(item+10)\n",
    "    "
   ]
  },
  {
   "cell_type": "code",
   "execution_count": null,
   "metadata": {},
   "outputs": [],
   "source": [
    "# O laço FOR também sabe trabalhar com uma sequência númerica que não esteja em uma lista\n",
    "# Nesse caso, precisamos dizer onde começa e onde terminar o intervalo de números\n",
    "\n",
    "for i in range(1, 6):\n",
    "    print(i)"
   ]
  },
  {
   "cell_type": "code",
   "execution_count": null,
   "metadata": {},
   "outputs": [],
   "source": [
    "# Observe que o número 6 não entra no laço. \n",
    "# O segundo número representa a CONDIÇÃO DE PARADA DO LAÇO\n",
    "# Assim que a variável 'i' assume o valor de 6, o laço não executa e termina"
   ]
  },
  {
   "cell_type": "markdown",
   "metadata": {},
   "source": [
    "<h4>Sua vez!</h4>\n",
    "Crie um programa que imprima na tela todos os números de 1 até 100"
   ]
  },
  {
   "cell_type": "code",
   "execution_count": null,
   "metadata": {},
   "outputs": [],
   "source": [
    "# Escreva seu código aqui\n",
    "\n",
    "\n",
    "\n",
    "\n"
   ]
  }
 ],
 "metadata": {
  "kernelspec": {
   "display_name": "Python 3",
   "language": "python",
   "name": "python3"
  },
  "language_info": {
   "codemirror_mode": {
    "name": "ipython",
    "version": 3
   },
   "file_extension": ".py",
   "mimetype": "text/x-python",
   "name": "python",
   "nbconvert_exporter": "python",
   "pygments_lexer": "ipython3",
   "version": "3.7.1"
  }
 },
 "nbformat": 4,
 "nbformat_minor": 2
}